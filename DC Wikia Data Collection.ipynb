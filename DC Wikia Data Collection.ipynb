{
 "cells": [
  {
   "cell_type": "markdown",
   "metadata": {},
   "source": [
    "# DC Height, Weight, & Gender\n",
    "\n",
    "## Author: Oliver Gladfelter\n",
    "\n",
    "## Date: Sep 6, 2018"
   ]
  },
  {
   "cell_type": "code",
   "execution_count": 1,
   "metadata": {},
   "outputs": [],
   "source": [
    "import lxml.html as lh\n",
    "import io\n",
    "import requests\n",
    "from bs4 import BeautifulSoup\n",
    "import pandas as pd\n",
    "import re\n",
    "%matplotlib inline\n",
    "import matplotlib.pyplot as plt\n",
    "import numpy as np\n",
    "import seaborn as sns\n",
    "from scipy import stats"
   ]
  },
  {
   "cell_type": "markdown",
   "metadata": {},
   "source": [
    "# Data Collection\n",
    "## All 26 Marvel Category Wiki Pages Containing Character Links\n",
    "Each of these category pages contain a list of links to 200 Marvel characters, for a total of 4,984 characters. These are all of the characters in the Marvel Wiki for which a weight is listed. To access all ~5k, we need to iterate over all 26 pages to collect links"
   ]
  },
  {
   "cell_type": "code",
   "execution_count": 2,
   "metadata": {},
   "outputs": [],
   "source": [
    "allWeightPages = [\n",
    "    'http://dc.wikia.com/wiki/Category:Weight?from=00100',\n",
    "    'http://dc.wikia.com/wiki/Category:Weight?pagefrom=Weight+120%0AShawna+Baez+%28Arrow%29&subcatfrom=00100&filefrom=00100',\n",
    "    'http://dc.wikia.com/wiki/Category:Weight?pagefrom=Weight+130%0AWilliam+Batson+%28Earth-S%29&subcatfrom=00100&filefrom=00100',\n",
    "    'http://dc.wikia.com/wiki/Category:Weight?pagefrom=Weight+145%0AJaime+Reyes+%28New+Earth%29&subcatfrom=00100&filefrom=00100',\n",
    "    'http://dc.wikia.com/wiki/Category:Weight?pagefrom=Weight+160%0AThom+Kallor+%28Earth-Prime%29&subcatfrom=00100&filefrom=00100',   \n",
    "    'http://dc.wikia.com/wiki/Category:Weight?pagefrom=Weight+173%0AEvan+McCulloch+%28New+Earth%29&subcatfrom=00100&filefrom=00100',\n",
    "    'http://dc.wikia.com/wiki/Category:Weight?pagefrom=Weight+180%0AMusketeer+%28New+Earth%29&subcatfrom=00100&filefrom=00100',\n",
    "    'http://dc.wikia.com/wiki/Category:Weight?pagefrom=Weight+190%0AThomas+Bolt+%28New+Earth%29&subcatfrom=00100&filefrom=00100',\n",
    "    'http://dc.wikia.com/wiki/Category:Weight?pagefrom=Weight+205%0AChristopher+Smith+%28New+Earth%29&subcatfrom=00100&filefrom=00100',\n",
    "    'http://dc.wikia.com/wiki/Category:Weight?pagefrom=Weight+230%0AHightower+%28Wildstorm+Universe%29&subcatfrom=00100&filefrom=00100',\n",
    "    'http://dc.wikia.com/wiki/Category:Weight?pagefrom=Weight+320%0AM%27Dahna+%28Green+Lantern+Movie%29&subcatfrom=00100&filefrom=00100',\n",
    "    'http://dc.wikia.com/wiki/Category:Weight?pagefrom=Weight+92%0AMara+%28New+Earth%29&subcatfrom=00100&filefrom=00100']"
   ]
  },
  {
   "cell_type": "markdown",
   "metadata": {},
   "source": [
    "## Function to Web Scrape A Single Marvel Category Wiki Page\n",
    "This function accepts a single URL - to a Marvel category page - and returns a list of links to every character wiki page listed in the category page"
   ]
  },
  {
   "cell_type": "code",
   "execution_count": 9,
   "metadata": {},
   "outputs": [],
   "source": [
    "def getLinksFromCategoryPage(url):\n",
    "\n",
    "    r = requests.get(url)\n",
    "\n",
    "    if r.status_code != 200:\n",
    "        print(\"Error\")\n",
    "    else:\n",
    "        soup = BeautifulSoup(r.content, \"lxml\")\n",
    "\n",
    "    # returns the last three unordered lists of the webpage\n",
    "    unorderedLists = soup.find_all(\"ul\",{'class':''})[1:]\n",
    "    \n",
    "    # the base for every character's page URL\n",
    "    linkBase = 'http://dc.wikia.com'\n",
    "    links = []\n",
    "\n",
    "    # for each unordered list (total of 3), grab the list of characters and save the wiki link to each one\n",
    "    for unorderedList in unorderedLists:\n",
    "        listOfCharacters = unorderedList.find_all('li')\n",
    "        for character in listOfCharacters:\n",
    "            links.append(linkBase + character.find('a')['href'])\n",
    "            \n",
    "    return links"
   ]
  },
  {
   "cell_type": "markdown",
   "metadata": {},
   "source": [
    "## Function to Web Scrape Marvel Character Pages\n",
    "When given a list of links to character pages, this function will scrape the gender, height, weight, and first appearance of each character and return a data frame containing a row for each character"
   ]
  },
  {
   "cell_type": "code",
   "execution_count": 5,
   "metadata": {},
   "outputs": [],
   "source": [
    "def getDataFromCharacterPage(listOfURLs):\n",
    "    \n",
    "    linkList = []\n",
    "    genderList = []\n",
    "    heightList = []\n",
    "    weightList = []\n",
    "    firstAppearanceList = []\n",
    "\n",
    "    for link in listOfURLs:\n",
    "\n",
    "        r = requests.get(link)\n",
    "\n",
    "        if r.status_code != 200:\n",
    "            print(\"Error\")\n",
    "        else:\n",
    "            soup = BeautifulSoup(r.content, \"lxml\")\n",
    "\n",
    "        # return an array of each characteristic banner, which includes a measure name and value in one string\n",
    "        stats = soup.findAll(\"div\",{\"class\": \"pi-item pi-data pi-item-spacing pi-border-color\"})\n",
    "\n",
    "        gender = ''\n",
    "        height = ''\n",
    "        weight = ''\n",
    "\n",
    "        # regEx to get only the vital info\n",
    "        for stat in stats:\n",
    "            if 'Gender' in stat.text:\n",
    "                if re.search('Gender\\n(.{,})',stat.text) is not None:\n",
    "                    gender = re.search('Gender\\n(.{,})',stat.text).group(1)\n",
    "            if 'Height' in stat.text:\n",
    "                if re.search('Height\\n(.{,})\\n',stat.text) is not None:\n",
    "                    height = re.search('Height\\n(.{,})\\n',stat.text).group(1)\n",
    "            if 'Weight' in stat.text:\n",
    "                if re.search('Weight\\n(.{,})\\n',stat.text) is not None:\n",
    "                    weight = re.search('Weight\\n(.{,})\\n',stat.text).group(1)\n",
    "\n",
    "        linkList.append(link)\n",
    "        genderList.append(gender)\n",
    "        heightList.append(height)\n",
    "        weightList.append(weight)\n",
    "        firstAppearanceList.append(soup.find(\"td\",{\"class\": \"pi-horizontal-group-item pi-data-value pi-font pi-border-color pi-item-spacing\"}).text)\n",
    "\n",
    "    return pd.DataFrame({'link':linkList,'gender':genderList,'height':heightList,'weight':weightList,'firstAppearance':firstAppearanceList})"
   ]
  },
  {
   "cell_type": "markdown",
   "metadata": {},
   "source": [
    "## Loop to Web Scrape All Category Pages To Collect Character Page Links\n",
    "We now run the getLinksFromCategoryPage() 26 times, one for each category page. All links will be saved to one list."
   ]
  },
  {
   "cell_type": "code",
   "execution_count": 10,
   "metadata": {},
   "outputs": [],
   "source": [
    "CharacterPageLinks = []\n",
    "\n",
    "for page in allWeightPages:\n",
    "    CharacterPageLinks = CharacterPageLinks + getLinksFromCategoryPage(page)"
   ]
  },
  {
   "cell_type": "code",
   "execution_count": 11,
   "metadata": {},
   "outputs": [
    {
     "data": {
      "text/plain": [
       "1477"
      ]
     },
     "execution_count": 11,
     "metadata": {},
     "output_type": "execute_result"
    }
   ],
   "source": [
    "len(CharacterPageLinks) # Should be 2,218"
   ]
  },
  {
   "cell_type": "markdown",
   "metadata": {},
   "source": [
    "## Scrape all 5,000 Character Pages for Weight, Height, Gender Data"
   ]
  },
  {
   "cell_type": "code",
   "execution_count": 13,
   "metadata": {},
   "outputs": [],
   "source": [
    "data = getDataFromCharacterPage(CharacterPageLinks)"
   ]
  },
  {
   "cell_type": "code",
   "execution_count": 15,
   "metadata": {},
   "outputs": [],
   "source": [
    "data.to_csv(\"C:\\\\Users\\\\glol7001\\\\Documents\\\\DCdata.csv\")"
   ]
  },
  {
   "cell_type": "code",
   "execution_count": 9,
   "metadata": {
    "collapsed": true
   },
   "outputs": [],
   "source": [
    "data = pd.read_csv(\"MarvelData.csv\")\n",
    "del data['Unnamed: 0']"
   ]
  },
  {
   "cell_type": "markdown",
   "metadata": {},
   "source": [
    "# Data Cleaning\n",
    "\n",
    "## Removing characters who don't have all variables of interested listed on their Wiki page"
   ]
  },
  {
   "cell_type": "code",
   "execution_count": 17,
   "metadata": {},
   "outputs": [],
   "source": [
    "data2 = data[(data['gender'] != '') & (data['height'] != '') & (data['weight'] != '')]\n",
    "data2 = data2.reset_index()\n",
    "del data2['index']"
   ]
  },
  {
   "cell_type": "markdown",
   "metadata": {},
   "source": [
    "## Parsing Out First Appearance Dates From The 'firstAppearance' Column\n",
    "The 'firstAppearance' value includes both the first publication in which the character was introduced as well as a date (in varying formats). It is the date, particularly the year, that we are interested in."
   ]
  },
  {
   "cell_type": "code",
   "execution_count": 19,
   "metadata": {},
   "outputs": [],
   "source": [
    "def getDate(value):\n",
    "    if re.search('.{,}\\((.{3,14}\\s?\\d{4})\\)',value) is not None:\n",
    "        return re.search('.{,}\\((.{3,14}\\s?\\d{4})\\)',value).group(1)\n",
    "    elif re.search('\\d{4}',value) is not None:\n",
    "        return re.search('\\d{4}',value).group(0)\n",
    "    else:\n",
    "        return 0\n",
    "    \n",
    "# this will result in a few 0s, where the first appearance date was missing from the character's page\n",
    "data2['firstAppearanceDate'] = data2['firstAppearance'].apply(getDate)"
   ]
  },
  {
   "cell_type": "code",
   "execution_count": 20,
   "metadata": {},
   "outputs": [
    {
     "data": {
      "text/html": [
       "<div>\n",
       "<style scoped>\n",
       "    .dataframe tbody tr th:only-of-type {\n",
       "        vertical-align: middle;\n",
       "    }\n",
       "\n",
       "    .dataframe tbody tr th {\n",
       "        vertical-align: top;\n",
       "    }\n",
       "\n",
       "    .dataframe thead th {\n",
       "        text-align: right;\n",
       "    }\n",
       "</style>\n",
       "<table border=\"1\" class=\"dataframe\">\n",
       "  <thead>\n",
       "    <tr style=\"text-align: right;\">\n",
       "      <th></th>\n",
       "      <th>link</th>\n",
       "      <th>gender</th>\n",
       "      <th>height</th>\n",
       "      <th>weight</th>\n",
       "      <th>firstAppearance</th>\n",
       "      <th>firstAppearanceDate</th>\n",
       "    </tr>\n",
       "  </thead>\n",
       "  <tbody>\n",
       "    <tr>\n",
       "      <th>1460</th>\n",
       "      <td>http://dc.wikia.com/wiki/Thaddeus_Sivana_(Eart...</td>\n",
       "      <td>Male</td>\n",
       "      <td>5' 2\"</td>\n",
       "      <td>98 lbs (44 kg)</td>\n",
       "      <td>Whiz Comics  #2(February, 1940)</td>\n",
       "      <td>February, 1940</td>\n",
       "    </tr>\n",
       "    <tr>\n",
       "      <th>1461</th>\n",
       "      <td>http://dc.wikia.com/wiki/Cyrus_Gold_(New_Earth)</td>\n",
       "      <td>Male</td>\n",
       "      <td>6' 7\" [2]</td>\n",
       "      <td>980 lbs (445 kg) [2]</td>\n",
       "      <td>All-American Comics  #61(October, 1944)</td>\n",
       "      <td>October, 1944</td>\n",
       "    </tr>\n",
       "    <tr>\n",
       "      <th>1462</th>\n",
       "      <td>http://dc.wikia.com/wiki/Imperiex-Prime_(New_E...</td>\n",
       "      <td>Male</td>\n",
       "      <td>6' 7\"</td>\n",
       "      <td>986 lbs (447 kg)</td>\n",
       "      <td>Superman Vol 2  #153(February, 2000)</td>\n",
       "      <td>February, 2000</td>\n",
       "    </tr>\n",
       "  </tbody>\n",
       "</table>\n",
       "</div>"
      ],
      "text/plain": [
       "                                                   link gender     height  \\\n",
       "1460  http://dc.wikia.com/wiki/Thaddeus_Sivana_(Eart...   Male      5' 2\"   \n",
       "1461    http://dc.wikia.com/wiki/Cyrus_Gold_(New_Earth)   Male  6' 7\" [2]   \n",
       "1462  http://dc.wikia.com/wiki/Imperiex-Prime_(New_E...   Male      6' 7\"   \n",
       "\n",
       "                    weight                          firstAppearance  \\\n",
       "1460        98 lbs (44 kg)          Whiz Comics  #2(February, 1940)   \n",
       "1461  980 lbs (445 kg) [2]  All-American Comics  #61(October, 1944)   \n",
       "1462      986 lbs (447 kg)     Superman Vol 2  #153(February, 2000)   \n",
       "\n",
       "     firstAppearanceDate  \n",
       "1460      February, 1940  \n",
       "1461       October, 1944  \n",
       "1462      February, 2000  "
      ]
     },
     "execution_count": 20,
     "metadata": {},
     "output_type": "execute_result"
    }
   ],
   "source": [
    "data2.tail(3)"
   ]
  },
  {
   "cell_type": "markdown",
   "metadata": {},
   "source": [
    "## Filling In Missing Release Dates\n",
    "A publication date wasn't listed in some cases, but the name of the introducing medium (comic book, TV, video game, etc) always is. In those cases, we need to scrape the comic book on Marvel Wiki to get the publication date."
   ]
  },
  {
   "cell_type": "code",
   "execution_count": 21,
   "metadata": {},
   "outputs": [],
   "source": [
    "missingDates = data2[data2['firstAppearanceDate'] == 0]\n",
    "missingDates = missingDates.reset_index()\n",
    "del missingDates['index']"
   ]
  },
  {
   "cell_type": "code",
   "execution_count": 36,
   "metadata": {},
   "outputs": [],
   "source": [
    "dates = ['2012',-1,-1,'2001','1989','2015',-1,'1988',-1,'1993','1993','2011']\n",
    "\n",
    "for num in range(0,len(missingDates)):\n",
    "    missingDates['firstAppearanceDate'][num] = dates[num]\n",
    "    \n",
    "missingDates = missingDates[missingDates['firstAppearanceDate'] != -1]"
   ]
  },
  {
   "cell_type": "code",
   "execution_count": 37,
   "metadata": {},
   "outputs": [
    {
     "data": {
      "text/html": [
       "<div>\n",
       "<style scoped>\n",
       "    .dataframe tbody tr th:only-of-type {\n",
       "        vertical-align: middle;\n",
       "    }\n",
       "\n",
       "    .dataframe tbody tr th {\n",
       "        vertical-align: top;\n",
       "    }\n",
       "\n",
       "    .dataframe thead th {\n",
       "        text-align: right;\n",
       "    }\n",
       "</style>\n",
       "<table border=\"1\" class=\"dataframe\">\n",
       "  <thead>\n",
       "    <tr style=\"text-align: right;\">\n",
       "      <th></th>\n",
       "      <th>link</th>\n",
       "      <th>gender</th>\n",
       "      <th>height</th>\n",
       "      <th>weight</th>\n",
       "      <th>firstAppearance</th>\n",
       "      <th>firstAppearanceDate</th>\n",
       "    </tr>\n",
       "  </thead>\n",
       "  <tbody>\n",
       "    <tr>\n",
       "      <th>9</th>\n",
       "      <td>http://dc.wikia.com/wiki/Percival_Edmund_Chang...</td>\n",
       "      <td>Male</td>\n",
       "      <td>5' 3\"</td>\n",
       "      <td>250 lbs (113 kg)</td>\n",
       "      <td>Deathmate Black</td>\n",
       "      <td>1993</td>\n",
       "    </tr>\n",
       "    <tr>\n",
       "      <th>10</th>\n",
       "      <td>http://dc.wikia.com/wiki/Caitlin_Fairchild_(Wi...</td>\n",
       "      <td>Female</td>\n",
       "      <td>6' 4\"</td>\n",
       "      <td>300 lbs (136 kg)</td>\n",
       "      <td>Deathmate Black</td>\n",
       "      <td>1993</td>\n",
       "    </tr>\n",
       "    <tr>\n",
       "      <th>11</th>\n",
       "      <td>http://dc.wikia.com/wiki/Chaselon_(Green_Lante...</td>\n",
       "      <td>Male</td>\n",
       "      <td>10' 0\"</td>\n",
       "      <td>720 lbs (327 kg)</td>\n",
       "      <td>[[Green Lantern (Movie)]]</td>\n",
       "      <td>2011</td>\n",
       "    </tr>\n",
       "  </tbody>\n",
       "</table>\n",
       "</div>"
      ],
      "text/plain": [
       "                                                 link  gender  height  \\\n",
       "9   http://dc.wikia.com/wiki/Percival_Edmund_Chang...    Male   5' 3\"   \n",
       "10  http://dc.wikia.com/wiki/Caitlin_Fairchild_(Wi...  Female   6' 4\"   \n",
       "11  http://dc.wikia.com/wiki/Chaselon_(Green_Lante...    Male  10' 0\"   \n",
       "\n",
       "              weight            firstAppearance firstAppearanceDate  \n",
       "9   250 lbs (113 kg)            Deathmate Black                1993  \n",
       "10  300 lbs (136 kg)            Deathmate Black                1993  \n",
       "11  720 lbs (327 kg)  [[Green Lantern (Movie)]]                2011  "
      ]
     },
     "execution_count": 37,
     "metadata": {},
     "output_type": "execute_result"
    }
   ],
   "source": [
    "missingDates.tail(3)"
   ]
  },
  {
   "cell_type": "markdown",
   "metadata": {},
   "source": [
    "## Reattaching Updated Rows To Main Dataframe"
   ]
  },
  {
   "cell_type": "code",
   "execution_count": 38,
   "metadata": {},
   "outputs": [],
   "source": [
    "notMissingDates = data2[data2['firstAppearanceDate'] != 0]\n",
    "data3 = pd.concat([notMissingDates,missingDates])\n",
    "data3 = data3.reset_index()\n",
    "del data3['index']"
   ]
  },
  {
   "cell_type": "code",
   "execution_count": 39,
   "metadata": {},
   "outputs": [],
   "source": [
    "data3 = data3.dropna()"
   ]
  },
  {
   "cell_type": "markdown",
   "metadata": {},
   "source": [
    "## Derive Normalized Year, Gender, Height, and Weight Columns"
   ]
  },
  {
   "cell_type": "code",
   "execution_count": null,
   "metadata": {},
   "outputs": [],
   "source": [
    "def getYear(value):\n",
    "    return int(re.search('\\d{4}',value).group(0))\n",
    "    \n",
    "data3['yearFirstAppeared'] = data3['firstAppearanceDate'].apply(getYear)"
   ]
  },
  {
   "cell_type": "code",
   "execution_count": 41,
   "metadata": {},
   "outputs": [],
   "source": [
    "def MaleFemale(value):\n",
    "    if (value != 'Male') and (value != 'Female'):\n",
    "        return -1\n",
    "    else:\n",
    "        return value\n",
    "\n",
    "data3['gender'] = data3['gender'].apply(MaleFemale)\n",
    "\n",
    "# Removing characters where gender is either missing or listed as agender or fluid, for analytical purposes\n",
    "data3 = data3[data3['gender'] != -1]\n",
    "data3 = data3.reset_index()\n",
    "del data3['index']"
   ]
  },
  {
   "cell_type": "code",
   "execution_count": 42,
   "metadata": {},
   "outputs": [],
   "source": [
    "def calcHeight(value):\n",
    "    \n",
    "    if re.search('(\\d)[\\',’]\\s?(\\d{1,2})',value) is None:\n",
    "        return -1\n",
    "    \n",
    "    feet = int(re.search('(\\d)[\\',’]\\s?(\\d{1,2})',value).group(1))\n",
    "    inch = int(re.search('(\\d)[\\',’]\\s?(\\d{1,2})',value).group(2))\n",
    "    return (feet * 12) + inch\n",
    "\n",
    "data3['heightInInches'] = data3['height'].apply(calcHeight)"
   ]
  },
  {
   "cell_type": "code",
   "execution_count": null,
   "metadata": {},
   "outputs": [],
   "source": [
    "# Some manual fixes \n",
    "data3['heightInInches'][196] = 67\n",
    "data3['heightInInches'][1203] = 84\n",
    "data3['heightInInches'][1213] = 125\n",
    "data3['heightInInches'][1309] = 72\n",
    "data3['heightInInches'][1316] = 74\n",
    "data3['heightInInches'][1367] = 15\n",
    "data3['heightInInches'][1415] = 86"
   ]
  },
  {
   "cell_type": "code",
   "execution_count": 49,
   "metadata": {},
   "outputs": [],
   "source": [
    "def calcWeight(value):\n",
    "    \n",
    "    if re.search('\\d{1,3}',value) is None:\n",
    "        return -1\n",
    "\n",
    "    return int(re.search('\\d{1,3}',value).group(0))\n",
    "\n",
    "data3['weightInPounds'] = data3['weight'].apply(calcWeight)"
   ]
  },
  {
   "cell_type": "code",
   "execution_count": 6,
   "metadata": {},
   "outputs": [],
   "source": [
    "data3 = pd.read_csv(\"MarvelData9-6-18.csv\", encoding = 'latin')\n",
    "del data3['Unnamed: 0']"
   ]
  },
  {
   "cell_type": "markdown",
   "metadata": {},
   "source": [
    "## Parsing 'link' Column For Character Name and Universe"
   ]
  },
  {
   "cell_type": "code",
   "execution_count": null,
   "metadata": {},
   "outputs": [],
   "source": [
    "def getName(value):\n",
    "    if re.search('wikia.com/wiki/(.{,})_\\((.{,})\\)',value) is None:\n",
    "        return -1\n",
    "    return re.search('wikia.com/wiki/(.{,})_\\((.{,})\\)',value).group(1).replace(\"_\",\" \")\n",
    "\n",
    "def getUniverse(value):\n",
    "    if re.search('wikia.com/wiki/(.{,})_\\((.{,})\\)',value) is None:\n",
    "        return -1\n",
    "    return re.search('wikia.com/wiki/(.{,})_\\((.{,})\\)',value).group(2).replace(\"_\",\" \")\n",
    "\n",
    "data3['name'] = data3['link'].apply(getName)\n",
    "data3['universe'] = data3['link'].apply(getUniverse)\n",
    "\n",
    "data3['name'][915] = 'Telos'\n",
    "data3['name'][1210] = 'Santa Claus'\n",
    "data3['name'][1239] = 'Clark Savage, Jr.'\n",
    "\n",
    "data3 = data3[data3['name'] != -1]\n",
    "data3 = data3.reset_index()\n",
    "del data3['index']"
   ]
  },
  {
   "cell_type": "code",
   "execution_count": 61,
   "metadata": {},
   "outputs": [
    {
     "data": {
      "text/html": [
       "<div>\n",
       "<style scoped>\n",
       "    .dataframe tbody tr th:only-of-type {\n",
       "        vertical-align: middle;\n",
       "    }\n",
       "\n",
       "    .dataframe tbody tr th {\n",
       "        vertical-align: top;\n",
       "    }\n",
       "\n",
       "    .dataframe thead th {\n",
       "        text-align: right;\n",
       "    }\n",
       "</style>\n",
       "<table border=\"1\" class=\"dataframe\">\n",
       "  <thead>\n",
       "    <tr style=\"text-align: right;\">\n",
       "      <th></th>\n",
       "      <th>link</th>\n",
       "      <th>gender</th>\n",
       "      <th>height</th>\n",
       "      <th>weight</th>\n",
       "      <th>firstAppearance</th>\n",
       "      <th>firstAppearanceDate</th>\n",
       "      <th>yearFirstAppeared</th>\n",
       "      <th>heightInInches</th>\n",
       "      <th>weightInPounds</th>\n",
       "      <th>name</th>\n",
       "      <th>universe</th>\n",
       "    </tr>\n",
       "  </thead>\n",
       "  <tbody>\n",
       "    <tr>\n",
       "      <th>1454</th>\n",
       "      <td>http://dc.wikia.com/wiki/Caitlin_Fairchild_(Wi...</td>\n",
       "      <td>Female</td>\n",
       "      <td>6' 4\"</td>\n",
       "      <td>300 lbs (136 kg)</td>\n",
       "      <td>Deathmate Black</td>\n",
       "      <td>1993</td>\n",
       "      <td>1993</td>\n",
       "      <td>76</td>\n",
       "      <td>300</td>\n",
       "      <td>Caitlin Fairchild</td>\n",
       "      <td>Wildstorm Universe</td>\n",
       "    </tr>\n",
       "    <tr>\n",
       "      <th>1455</th>\n",
       "      <td>http://dc.wikia.com/wiki/Chaselon_(Green_Lante...</td>\n",
       "      <td>Male</td>\n",
       "      <td>10' 0\"</td>\n",
       "      <td>720 lbs (327 kg)</td>\n",
       "      <td>[[Green Lantern (Movie)]]</td>\n",
       "      <td>2011</td>\n",
       "      <td>2011</td>\n",
       "      <td>0</td>\n",
       "      <td>720</td>\n",
       "      <td>Chaselon</td>\n",
       "      <td>Green Lantern Movie</td>\n",
       "    </tr>\n",
       "  </tbody>\n",
       "</table>\n",
       "</div>"
      ],
      "text/plain": [
       "                                                   link  gender  height  \\\n",
       "1454  http://dc.wikia.com/wiki/Caitlin_Fairchild_(Wi...  Female   6' 4\"   \n",
       "1455  http://dc.wikia.com/wiki/Chaselon_(Green_Lante...    Male  10' 0\"   \n",
       "\n",
       "                weight            firstAppearance firstAppearanceDate  \\\n",
       "1454  300 lbs (136 kg)            Deathmate Black                1993   \n",
       "1455  720 lbs (327 kg)  [[Green Lantern (Movie)]]                2011   \n",
       "\n",
       "      yearFirstAppeared  heightInInches  weightInPounds               name  \\\n",
       "1454               1993              76             300  Caitlin Fairchild   \n",
       "1455               2011               0             720           Chaselon   \n",
       "\n",
       "                 universe  \n",
       "1454   Wildstorm Universe  \n",
       "1455  Green Lantern Movie  "
      ]
     },
     "execution_count": 61,
     "metadata": {},
     "output_type": "execute_result"
    }
   ],
   "source": [
    "data3.tail(2)"
   ]
  },
  {
   "cell_type": "code",
   "execution_count": 62,
   "metadata": {},
   "outputs": [],
   "source": [
    "data3.to_csv(\"C:\\\\Users\\\\glol7001\\\\Documents\\\\DCDataComplete.csv\")"
   ]
  }
 ],
 "metadata": {
  "kernelspec": {
   "display_name": "Python 3",
   "language": "python",
   "name": "python3"
  },
  "language_info": {
   "codemirror_mode": {
    "name": "ipython",
    "version": 3
   },
   "file_extension": ".py",
   "mimetype": "text/x-python",
   "name": "python",
   "nbconvert_exporter": "python",
   "pygments_lexer": "ipython3",
   "version": "3.6.5"
  }
 },
 "nbformat": 4,
 "nbformat_minor": 2
}
