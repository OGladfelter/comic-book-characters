{
 "cells": [
  {
   "cell_type": "markdown",
   "metadata": {},
   "source": [
    "# Marvel Height, Weight, & Gender\n",
    "\n",
    "## Author: Oliver Gladfelter\n",
    "\n",
    "## Date: Sep 4, 2018"
   ]
  },
  {
   "cell_type": "code",
   "execution_count": 71,
   "metadata": {},
   "outputs": [],
   "source": [
    "import lxml.html as lh\n",
    "import io\n",
    "import requests\n",
    "from bs4 import BeautifulSoup\n",
    "import pandas as pd\n",
    "import re\n",
    "%matplotlib inline\n",
    "import matplotlib.pyplot as plt\n",
    "import numpy as np\n",
    "import seaborn as sns\n",
    "from scipy import stats"
   ]
  },
  {
   "cell_type": "markdown",
   "metadata": {},
   "source": [
    "# Data Collection\n",
    "## All 26 Marvel Category Wiki Pages Containing Character Links\n",
    "Each of these category pages contain a list of links to 200 Marvel characters, for a total of 4,984 characters. These are all of the characters in the Marvel Wiki for which a weight is listed. To access all ~5k, we need to iterate over all 26 pages to collect links"
   ]
  },
  {
   "cell_type": "code",
   "execution_count": 151,
   "metadata": {
    "collapsed": true
   },
   "outputs": [],
   "source": [
    "allWeightPages = [\n",
    "    'http://marvel.wikia.com/wiki/Category:Weight',\n",
    "    'http://marvel.wikia.com/wiki/Category:Weight?pagefrom=Weight+110%0AMay+Reilly+%28Earth-35125%29',\n",
    "    'http://marvel.wikia.com/wiki/Category:Weight?pagefrom=Weight+119%0APatricia+Tilby+%28Earth-616%29',\n",
    "    'http://marvel.wikia.com/wiki/Category:Weight?pagefrom=Weight+120%0AWendy+Christiansen+%28Earth-616%29',\n",
    "    'http://marvel.wikia.com/wiki/Category:Weight?pagefrom=Weight+128%0ABen+Hammil+%28Earth-616%29',   \n",
    "    'http://marvel.wikia.com/wiki/Category:Weight?pagefrom=Weight+132%0ARosetta+Morgan+%28Earth-982%29',\n",
    "    'http://marvel.wikia.com/wiki/Category:Weight?pagefrom=Weight+140%0AJason+Ionello+%28Earth-616%29',\n",
    "    'http://marvel.wikia.com/wiki/Category:Weight?pagefrom=Weight+145%0ARobert+Drake+%28Earth-39259%29',\n",
    "    'http://marvel.wikia.com/wiki/Category:Weight?pagefrom=Weight+151%0AScarlet+Fasinera+%28Earth-616%29',\n",
    "    'http://marvel.wikia.com/wiki/Category:Weight?pagefrom=Weight+161%0AKurt+Wagner+%28Earth-6109%29',\n",
    "    'http://marvel.wikia.com/wiki/Category:Weight?pagefrom=Weight+170%0AFen+%28Earth-616%29',\n",
    "    'http://marvel.wikia.com/wiki/Category:Weight?pagefrom=Weight+175%0AGhost+%28Earth-616%29',\n",
    "    'http://marvel.wikia.com/wiki/Category:Weight?pagefrom=Weight+180%0AJohn+Robert+Keane+%28Earth-616%29',\n",
    "    'http://marvel.wikia.com/wiki/Category:Weight?pagefrom=Weight+185%0ACenturious+%28Earth-616%29',\n",
    "    'http://marvel.wikia.com/wiki/Category:Weight?pagefrom=Weight+190%0AJoseph+%28Earth-983%29',\n",
    "    'http://marvel.wikia.com/wiki/Category:Weight?pagefrom=Weight+195%0AWilliam+McLaughlin+%28Earth-616%29',\n",
    "    'http://marvel.wikia.com/wiki/Category:Weight?pagefrom=Weight+203%0APhillip+Coulson+%28Earth-616%29',\n",
    "    'http://marvel.wikia.com/wiki/Category:Weight?pagefrom=Weight+220%0ABanca+Rech+%28Earth-616%29',\n",
    "    'http://marvel.wikia.com/wiki/Category:Weight?pagefrom=Weight+225%0AVictor+von+Doom+%28Earth-58163%29',\n",
    "    'http://marvel.wikia.com/wiki/Category:Weight?pagefrom=Weight+240%0ASteven+Rogers+%28Earth-2301%29',\n",
    "    'http://marvel.wikia.com/wiki/Category:Weight?pagefrom=Weight+255%0AMark+Raxton+%28Earth-616%29',\n",
    "    'http://marvel.wikia.com/wiki/Category:Weight?pagefrom=Weight+300%0AChester+Goudal+%28Earth-616%29',\n",
    "    'http://marvel.wikia.com/wiki/Category:Weight?pagefrom=Weight+380%0ACuchulain+%28Earth-691%29',\n",
    "    'http://marvel.wikia.com/wiki/Category:Weight?pagefrom=Weight+475%0AKarnilla+%28Earth-616%29',\n",
    "    'http://marvel.wikia.com/wiki/Category:Weight?pagefrom=Weight+545%0AMary+MacPherran+%28Earth-TRN012%29',\n",
    "    'http://marvel.wikia.com/wiki/Category:Weight?pagefrom=Weight+85%0AGnome+%28Scientist%29+%28Earth-616%29']"
   ]
  },
  {
   "cell_type": "markdown",
   "metadata": {},
   "source": [
    "## Function to Web Scrape A Single Marvel Category Wiki Page\n",
    "This function accepts a single URL - to a Marvel category page - and returns a list of links to every character wiki page listed in the category page"
   ]
  },
  {
   "cell_type": "code",
   "execution_count": 139,
   "metadata": {
    "collapsed": true
   },
   "outputs": [],
   "source": [
    "def getLinksFromCategoryPage(url):\n",
    "\n",
    "    r = requests.get(url)\n",
    "\n",
    "    if r.status_code != 200:\n",
    "        print(\"Error\")\n",
    "    else:\n",
    "        soup = BeautifulSoup(r.content, \"lxml\")\n",
    "\n",
    "    # returns the last three unordered lists of the webpage\n",
    "    unorderedLists = soup.find_all(\"ul\",{'class':''})[1:]\n",
    "    \n",
    "    # the base for every character's page URL\n",
    "    linkBase = 'http://marvel.wikia.com'\n",
    "    links = []\n",
    "\n",
    "    # for each unordered list (total of 3), grab the list of characters and save the wiki link to each one\n",
    "    for unorderedList in unorderedLists:\n",
    "        listOfCharacters = unorderedList.find_all('li')\n",
    "        for character in listOfCharacters:\n",
    "            links.append(linkBase + character.find('a')['href'])\n",
    "            \n",
    "    return links"
   ]
  },
  {
   "cell_type": "markdown",
   "metadata": {},
   "source": [
    "## Function to Web Scrape Marvel Character Pages\n",
    "When given a list of links to character pages, this function will scrape the gender, height, weight, and first appearance of each character and return a data frame containing a row for each character"
   ]
  },
  {
   "cell_type": "code",
   "execution_count": 160,
   "metadata": {
    "collapsed": true
   },
   "outputs": [],
   "source": [
    "def getDataFromCharacterPage(listOfURLs):\n",
    "    \n",
    "    linkList = []\n",
    "    genderList = []\n",
    "    heightList = []\n",
    "    weightList = []\n",
    "    firstAppearanceList = []\n",
    "\n",
    "    for link in listOfURLs:\n",
    "\n",
    "        r = requests.get(link)\n",
    "\n",
    "        if r.status_code != 200:\n",
    "            print(\"Error\")\n",
    "        else:\n",
    "            soup = BeautifulSoup(r.content, \"lxml\")\n",
    "\n",
    "        # return an array of each characteristic banner, which includes a measure name and value in one string\n",
    "        stats = soup.findAll(\"div\",{\"class\": \"pi-item pi-data pi-item-spacing pi-border-color\"})\n",
    "\n",
    "        gender = ''\n",
    "        height = ''\n",
    "        weight = ''\n",
    "\n",
    "        # regEx to get only the vital info\n",
    "        for stat in stats:\n",
    "            if 'Gender' in stat.text:\n",
    "                if re.search('Gender\\n(.{,})',stat.text) is not None:\n",
    "                    gender = re.search('Gender\\n(.{,})',stat.text).group(1)\n",
    "            if 'Height' in stat.text:\n",
    "                if re.search('Height\\n(.{,})\\n',stat.text) is not None:\n",
    "                    height = re.search('Height\\n(.{,})\\n',stat.text).group(1)\n",
    "            if 'Weight' in stat.text:\n",
    "                if re.search('Weight\\n(.{,})\\n',stat.text) is not None:\n",
    "                    weight = re.search('Weight\\n(.{,})\\n',stat.text).group(1)\n",
    "\n",
    "        linkList.append(link)\n",
    "        genderList.append(gender)\n",
    "        heightList.append(height)\n",
    "        weightList.append(weight)\n",
    "        firstAppearanceList.append(soup.find(\"td\",{\"class\": \"pi-horizontal-group-item pi-data-value pi-font pi-border-color pi-item-spacing\"}).text)\n",
    "\n",
    "    return pd.DataFrame({'link':linkList,'gender':genderList,'height':heightList,'weight':weightList,'firstAppearance':firstAppearanceList})"
   ]
  },
  {
   "cell_type": "markdown",
   "metadata": {},
   "source": [
    "## Loop to Web Scrape All Category Pages To Collect Character Page Links\n",
    "We now run the getLinksFromCategoryPage() 26 times, one for each category page. All links will be saved to one list."
   ]
  },
  {
   "cell_type": "code",
   "execution_count": 156,
   "metadata": {
    "collapsed": true
   },
   "outputs": [],
   "source": [
    "CharacterPageLinks = []\n",
    "\n",
    "for page in allWeightPages:\n",
    "    CharacterPageLinks = CharacterPageLinks + getLinksFromCategoryPage(page)"
   ]
  },
  {
   "cell_type": "code",
   "execution_count": 157,
   "metadata": {},
   "outputs": [
    {
     "data": {
      "text/plain": [
       "5085"
      ]
     },
     "execution_count": 157,
     "metadata": {},
     "output_type": "execute_result"
    }
   ],
   "source": [
    "len(CharacterPageLinks) # Should be 4,984"
   ]
  },
  {
   "cell_type": "markdown",
   "metadata": {},
   "source": [
    "## Scrape all 5,000 Character Pages for Weight, Height, Gender Data"
   ]
  },
  {
   "cell_type": "code",
   "execution_count": 161,
   "metadata": {
    "collapsed": true
   },
   "outputs": [],
   "source": [
    "data = getDataFromCharacterPage(CharacterPageLinks)"
   ]
  },
  {
   "cell_type": "code",
   "execution_count": 162,
   "metadata": {
    "collapsed": true
   },
   "outputs": [],
   "source": [
    "data.to_csv(\"C:\\\\Users\\\\glol7001\\\\Documents\\\\MarvelData.csv\")"
   ]
  },
  {
   "cell_type": "code",
   "execution_count": 9,
   "metadata": {
    "collapsed": true
   },
   "outputs": [],
   "source": [
    "data = pd.read_csv(\"MarvelData.csv\")\n",
    "del data['Unnamed: 0']"
   ]
  },
  {
   "cell_type": "markdown",
   "metadata": {},
   "source": [
    "# Data Cleaning\n",
    "\n",
    "## Removing characters who don't have all variables of interested listed on their Wiki page"
   ]
  },
  {
   "cell_type": "code",
   "execution_count": 10,
   "metadata": {
    "collapsed": true
   },
   "outputs": [],
   "source": [
    "data2 = data[(data['gender'] != '') & (data['height'] != '') & (data['weight'] != '')]\n",
    "data2 = data2.reset_index()\n",
    "del data2['index']"
   ]
  },
  {
   "cell_type": "markdown",
   "metadata": {},
   "source": [
    "## Parsing Out First Appearance Dates From The 'firstAppearance' Column\n",
    "The 'firstAppearance' value includes both the first publication in which the character was introduced as well as a date (in varying formats). It is the date, particularly the year, that we are interested in."
   ]
  },
  {
   "cell_type": "code",
   "execution_count": 11,
   "metadata": {
    "collapsed": true
   },
   "outputs": [],
   "source": [
    "def getDate(value):\n",
    "    if re.search('.{,}\\((.{3,14}\\s?\\d{4})\\)',value) is not None:\n",
    "        return re.search('.{,}\\((.{3,14}\\s?\\d{4})\\)',value).group(1)\n",
    "    elif re.search('\\d{4}',value) is not None:\n",
    "        return re.search('\\d{4}',value).group(0)\n",
    "    else:\n",
    "        return 0\n",
    "    \n",
    "# this will result in a few 0s, where the first appearance date was missing from the character's page\n",
    "data2['firstAppearanceDate'] = data2['firstAppearance'].apply(getDate)"
   ]
  },
  {
   "cell_type": "code",
   "execution_count": 78,
   "metadata": {},
   "outputs": [
    {
     "data": {
      "text/html": [
       "<div>\n",
       "<style>\n",
       "    .dataframe thead tr:only-child th {\n",
       "        text-align: right;\n",
       "    }\n",
       "\n",
       "    .dataframe thead th {\n",
       "        text-align: left;\n",
       "    }\n",
       "\n",
       "    .dataframe tbody tr th {\n",
       "        vertical-align: top;\n",
       "    }\n",
       "</style>\n",
       "<table border=\"1\" class=\"dataframe\">\n",
       "  <thead>\n",
       "    <tr style=\"text-align: right;\">\n",
       "      <th></th>\n",
       "      <th>link</th>\n",
       "      <th>gender</th>\n",
       "      <th>height</th>\n",
       "      <th>weight</th>\n",
       "      <th>firstAppearance</th>\n",
       "      <th>firstAppearanceDate</th>\n",
       "    </tr>\n",
       "  </thead>\n",
       "  <tbody>\n",
       "    <tr>\n",
       "      <th>5082</th>\n",
       "      <td>http://marvel.wikia.com/wiki/Wicked_(Earth-616)</td>\n",
       "      <td>Female</td>\n",
       "      <td>5' 1\"</td>\n",
       "      <td>99 lbs (45 kg)</td>\n",
       "      <td>Excalibur Vol 3  #1(July, 2004)</td>\n",
       "      <td>July, 2004</td>\n",
       "    </tr>\n",
       "    <tr>\n",
       "      <th>5083</th>\n",
       "      <td>http://marvel.wikia.com/wiki/Oberon_(Earth-616)</td>\n",
       "      <td>Male</td>\n",
       "      <td>15' 4\" (Variable)</td>\n",
       "      <td>990 lbs (449 kg) (Variable)</td>\n",
       "      <td>Wisdom  #1(January, 2007)</td>\n",
       "      <td>January, 2007</td>\n",
       "    </tr>\n",
       "    <tr>\n",
       "      <th>5084</th>\n",
       "      <td>http://marvel.wikia.com/wiki/Reptyl_(Earth-616)</td>\n",
       "      <td>Male</td>\n",
       "      <td>6' 8\" 15'6\" as Reptyl Prime</td>\n",
       "      <td>990 lbs (449 kg) 420 lbs (original form), 5200...</td>\n",
       "      <td>Silver Surfer Vol 3  #11(May, 1988)</td>\n",
       "      <td>May, 1988</td>\n",
       "    </tr>\n",
       "  </tbody>\n",
       "</table>\n",
       "</div>"
      ],
      "text/plain": [
       "                                                 link  gender  \\\n",
       "5082  http://marvel.wikia.com/wiki/Wicked_(Earth-616)  Female   \n",
       "5083  http://marvel.wikia.com/wiki/Oberon_(Earth-616)    Male   \n",
       "5084  http://marvel.wikia.com/wiki/Reptyl_(Earth-616)    Male   \n",
       "\n",
       "                           height  \\\n",
       "5082                        5' 1\"   \n",
       "5083            15' 4\" (Variable)   \n",
       "5084  6' 8\" 15'6\" as Reptyl Prime   \n",
       "\n",
       "                                                 weight  \\\n",
       "5082                                     99 lbs (45 kg)   \n",
       "5083                        990 lbs (449 kg) (Variable)   \n",
       "5084  990 lbs (449 kg) 420 lbs (original form), 5200...   \n",
       "\n",
       "                          firstAppearance firstAppearanceDate  \n",
       "5082      Excalibur Vol 3  #1(July, 2004)          July, 2004  \n",
       "5083            Wisdom  #1(January, 2007)       January, 2007  \n",
       "5084  Silver Surfer Vol 3  #11(May, 1988)           May, 1988  "
      ]
     },
     "execution_count": 78,
     "metadata": {},
     "output_type": "execute_result"
    }
   ],
   "source": [
    "data2.tail(3)"
   ]
  },
  {
   "cell_type": "markdown",
   "metadata": {},
   "source": [
    "## Scraping Comic Book Pages for Release Dates\n",
    "A publication date wasn't listed in some cases, but the name of the introducing medium (comic book, TV, video game, etc) always is. In those cases, we need to scrape the comic book on Marvel Wiki to get the publication date."
   ]
  },
  {
   "cell_type": "code",
   "execution_count": 14,
   "metadata": {
    "collapsed": true
   },
   "outputs": [],
   "source": [
    "missingDates = data2[data2['firstAppearanceDate'] == 0]\n",
    "missingDates = missingDates.reset_index()\n",
    "del missingDates['index']"
   ]
  },
  {
   "cell_type": "code",
   "execution_count": 23,
   "metadata": {
    "collapsed": true
   },
   "outputs": [],
   "source": [
    "linkBase = 'http://marvel.wikia.com/wiki/'\n",
    "\n",
    "for num in range(0,len(missingDates)):\n",
    "    \n",
    "    newDate = \"\"\n",
    "    \n",
    "    # Uses the linkBase and comic book name to construct a URL\n",
    "    url = linkBase + missingDates['firstAppearance'][num].replace(\" \",\"_\")\n",
    "    r = requests.get(url)\n",
    "    \n",
    "    if r.status_code != 200:\n",
    "        # This 1986 book accounts for several missing dates, although the Marvel Wiki doesn't have a page for it\n",
    "        if 'Gates of What If' in missingDates['firstAppearance'][num]:\n",
    "            newDate = '1986'\n",
    "        else:\n",
    "            missingDates['firstAppearanceDate'][num] = 'Needs manual check'\n",
    "            continue\n",
    "    else:\n",
    "        soup = BeautifulSoup(r.content, \"lxml\")\n",
    "    \n",
    "        # There are two different main formats for pages for mediums in which characters may have been introduced\n",
    "        # Scrape the publication date of the media, being flexible of multiple page formats\n",
    "        if len(soup.find_all(\"div\",{'style':'width:160px;float:left;text-align:right;'})) > 1:\n",
    "            newDate = soup.find_all(\"div\",{'style':'width:160px;float:left;text-align:right;'})[-1].text\n",
    "        elif len(soup.find_all('div',{'style':\"font-size:12px;text-align:center;line-height:2em;\"})) > 1:\n",
    "            newDate = soup.find_all('div',{'style':\"font-size:12px;text-align:center;line-height:2em;\"})[1].text\n",
    "        \n",
    "    missingDates['firstAppearanceDate'][num] = newDate "
   ]
  },
  {
   "cell_type": "code",
   "execution_count": null,
   "metadata": {},
   "outputs": [],
   "source": [
    "missingDates['firstAppearanceDate'][3] = '2009'\n",
    "missingDates['firstAppearanceDate'][4] = '2006'\n",
    "missingDates['firstAppearanceDate'][16] = ''\n",
    "missingDates['firstAppearanceDate'][24] = '2002'\n",
    "missingDates['firstAppearanceDate'][26] = '2009'\n",
    "missingDates['firstAppearanceDate'][27] = '2009'\n",
    "missingDates['firstAppearanceDate'][31] = '1999'\n",
    "missingDates['firstAppearanceDate'][38] = '2008'\n",
    "missingDates['firstAppearanceDate'][43] = '2013'\n",
    "missingDates['firstAppearanceDate'][46] = ''\n",
    "missingDates['firstAppearanceDate'][48] = '2003'\n",
    "\n",
    "missingDates = missingDates[missingDates['firstAppearanceDate'] != '']"
   ]
  },
  {
   "cell_type": "code",
   "execution_count": 79,
   "metadata": {},
   "outputs": [
    {
     "data": {
      "text/html": [
       "<div>\n",
       "<style>\n",
       "    .dataframe thead tr:only-child th {\n",
       "        text-align: right;\n",
       "    }\n",
       "\n",
       "    .dataframe thead th {\n",
       "        text-align: left;\n",
       "    }\n",
       "\n",
       "    .dataframe tbody tr th {\n",
       "        vertical-align: top;\n",
       "    }\n",
       "</style>\n",
       "<table border=\"1\" class=\"dataframe\">\n",
       "  <thead>\n",
       "    <tr style=\"text-align: right;\">\n",
       "      <th></th>\n",
       "      <th>link</th>\n",
       "      <th>gender</th>\n",
       "      <th>height</th>\n",
       "      <th>weight</th>\n",
       "      <th>firstAppearance</th>\n",
       "      <th>firstAppearanceDate</th>\n",
       "    </tr>\n",
       "  </thead>\n",
       "  <tbody>\n",
       "    <tr>\n",
       "      <th>58</th>\n",
       "      <td>http://marvel.wikia.com/wiki/Death%27s_Head_(E...</td>\n",
       "      <td>Male</td>\n",
       "      <td>6' 10\" ; Formerly 30'; 7'</td>\n",
       "      <td>605 lbs (274 kg) ; Formerly 25 tons; 650 lbs</td>\n",
       "      <td>High Noon Tex</td>\n",
       "      <td>1987</td>\n",
       "    </tr>\n",
       "    <tr>\n",
       "      <th>59</th>\n",
       "      <td>http://marvel.wikia.com/wiki/Michael_Collins_(...</td>\n",
       "      <td>Male</td>\n",
       "      <td>7' 2\"</td>\n",
       "      <td>825 lbs (374 kg)</td>\n",
       "      <td>Deeds of Doom</td>\n",
       "      <td>July, 1992</td>\n",
       "    </tr>\n",
       "    <tr>\n",
       "      <th>60</th>\n",
       "      <td>http://marvel.wikia.com/wiki/Aimi_Yoshida_(Ear...</td>\n",
       "      <td>Female</td>\n",
       "      <td>5' 1\"</td>\n",
       "      <td>95 lbs (43 kg)</td>\n",
       "      <td>X-Men: Destiny</td>\n",
       "      <td>September, 27, 2011</td>\n",
       "    </tr>\n",
       "  </tbody>\n",
       "</table>\n",
       "</div>"
      ],
      "text/plain": [
       "                                                 link  gender  \\\n",
       "58  http://marvel.wikia.com/wiki/Death%27s_Head_(E...    Male   \n",
       "59  http://marvel.wikia.com/wiki/Michael_Collins_(...    Male   \n",
       "60  http://marvel.wikia.com/wiki/Aimi_Yoshida_(Ear...  Female   \n",
       "\n",
       "                       height                                        weight  \\\n",
       "58  6' 10\" ; Formerly 30'; 7'  605 lbs (274 kg) ; Formerly 25 tons; 650 lbs   \n",
       "59                      7' 2\"                              825 lbs (374 kg)   \n",
       "60                      5' 1\"                                95 lbs (43 kg)   \n",
       "\n",
       "   firstAppearance  firstAppearanceDate  \n",
       "58   High Noon Tex                 1987  \n",
       "59   Deeds of Doom           July, 1992  \n",
       "60  X-Men: Destiny  September, 27, 2011  "
      ]
     },
     "execution_count": 79,
     "metadata": {},
     "output_type": "execute_result"
    }
   ],
   "source": [
    "missingDates.tail(3)"
   ]
  },
  {
   "cell_type": "markdown",
   "metadata": {},
   "source": [
    "## Reattaching Updated Rows To Main Dataframe"
   ]
  },
  {
   "cell_type": "code",
   "execution_count": 110,
   "metadata": {
    "collapsed": true
   },
   "outputs": [],
   "source": [
    "notMissingDates = data2[data2['firstAppearanceDate'] != 0]\n",
    "data3 = pd.concat([notMissingDates,missingDates])\n",
    "data3 = data3.reset_index()\n",
    "del data3['index']"
   ]
  },
  {
   "cell_type": "code",
   "execution_count": 111,
   "metadata": {
    "collapsed": true
   },
   "outputs": [],
   "source": [
    "data3 = data3.dropna()"
   ]
  },
  {
   "cell_type": "markdown",
   "metadata": {},
   "source": [
    "## Derive Normalized Year, Gender, Height, and Weight Columns"
   ]
  },
  {
   "cell_type": "code",
   "execution_count": 119,
   "metadata": {},
   "outputs": [],
   "source": [
    "def getYear(value):\n",
    "    return int(re.search('\\d{4}',value).group(0))\n",
    "    \n",
    "data3['yearFirstAppeared'] = data3['firstAppearanceDate'].apply(getYear)"
   ]
  },
  {
   "cell_type": "code",
   "execution_count": 113,
   "metadata": {},
   "outputs": [],
   "source": [
    "def MaleFemale(value):\n",
    "    if (value != 'Male') and (value != 'Female'):\n",
    "        return -1\n",
    "    else:\n",
    "        return value\n",
    "\n",
    "data3['gender'] = data3['gender'].apply(MaleFemale)\n",
    "\n",
    "# Removing characters where gender is either missing or listed as agender or fluid, for analytical purposes\n",
    "data3 = data3[data3['gender'] != -1]\n",
    "data3 = data3.reset_index()\n",
    "del data3['index']"
   ]
  },
  {
   "cell_type": "code",
   "execution_count": null,
   "metadata": {},
   "outputs": [],
   "source": [
    "def calcHeight(value):\n",
    "    \n",
    "    if re.search('(\\d)[\\',’]\\s?(\\d{1,2})',value) is None:\n",
    "        return -1\n",
    "    \n",
    "    feet = int(re.search('(\\d)[\\',’]\\s?(\\d{1,2})',value).group(1))\n",
    "    inch = int(re.search('(\\d)[\\',’]\\s?(\\d{1,2})',value).group(2))\n",
    "    return (feet * 12) + inch\n",
    "\n",
    "data3['heightInInches'] = data3['height'].apply(calcHeight)"
   ]
  },
  {
   "cell_type": "code",
   "execution_count": null,
   "metadata": {},
   "outputs": [],
   "source": [
    "# Some manual conversions (all of these character's heights were listed in centimeters, meters, and even miles)\n",
    "data3['heightInInches'][1001] = 67.992126\n",
    "data3['heightInInches'][1239] = 4724.41\n",
    "data3['heightInInches'][1741] = 3543.31\n",
    "data3['heightInInches'][3101] = 31680\n",
    "data3['heightInInches'][4085] = 11.811\n",
    "data3['heightInInches'][4086] = 12\n",
    "data3['heightInInches'][4087] = 12\n",
    "data3['heightInInches'][4863] = 54.3307\n",
    "data3['heightInInches'][4867] = 9"
   ]
  },
  {
   "cell_type": "code",
   "execution_count": 194,
   "metadata": {},
   "outputs": [],
   "source": [
    "# dropping 9 characters whose heights were listed only as 'Variable'\n",
    "data3 = data3[data3['heightInInches'] != -1]\n",
    "data3 = data3.reset_index()\n",
    "del data3['index']"
   ]
  },
  {
   "cell_type": "code",
   "execution_count": 219,
   "metadata": {
    "collapsed": true
   },
   "outputs": [],
   "source": [
    "def calcWeight(value):\n",
    "    \n",
    "    if re.search('\\d{1,3}',value) is None:\n",
    "        return -1\n",
    "\n",
    "    return int(re.search('\\d{1,3}',value).group(0))\n",
    "\n",
    "data3['weightInPounds'] = data3['weight'].apply(calcWeight)"
   ]
  },
  {
   "cell_type": "code",
   "execution_count": 6,
   "metadata": {},
   "outputs": [],
   "source": [
    "data3 = pd.read_csv(\"MarvelData9-6-18.csv\", encoding = 'latin')\n",
    "del data3['Unnamed: 0']"
   ]
  },
  {
   "cell_type": "markdown",
   "metadata": {},
   "source": [
    "## Parsing 'link' Column For Character Name and Universe"
   ]
  },
  {
   "cell_type": "code",
   "execution_count": 36,
   "metadata": {},
   "outputs": [],
   "source": [
    "def getName(value):\n",
    "    if re.search('wikia.com/wiki/(.{,})_\\((.{,})\\)',value) is None:\n",
    "        return -1\n",
    "    return re.search('wikia.com/wiki/(.{,})_\\((.{,})\\)',value).group(1).replace(\"_\",\" \")\n",
    "\n",
    "def getUniverse(value):\n",
    "    if re.search('wikia.com/wiki/(.{,})_\\((.{,})\\)',value) is None:\n",
    "        return -1\n",
    "    return re.search('wikia.com/wiki/(.{,})_\\((.{,})\\)',value).group(2).replace(\"_\",\" \")\n",
    "\n",
    "data3['name'] = data3['link'].apply(getName)\n",
    "data3['universe'] = data3['link'].apply(getUniverse)\n",
    "\n",
    "data3 = data3[data3['name'] != -1]\n",
    "data3 = data3.reset_index()\n",
    "del data3['index']"
   ]
  },
  {
   "cell_type": "code",
   "execution_count": 63,
   "metadata": {},
   "outputs": [
    {
     "data": {
      "text/html": [
       "<div>\n",
       "<style scoped>\n",
       "    .dataframe tbody tr th:only-of-type {\n",
       "        vertical-align: middle;\n",
       "    }\n",
       "\n",
       "    .dataframe tbody tr th {\n",
       "        vertical-align: top;\n",
       "    }\n",
       "\n",
       "    .dataframe thead th {\n",
       "        text-align: right;\n",
       "    }\n",
       "</style>\n",
       "<table border=\"1\" class=\"dataframe\">\n",
       "  <thead>\n",
       "    <tr style=\"text-align: right;\">\n",
       "      <th></th>\n",
       "      <th>link</th>\n",
       "      <th>gender</th>\n",
       "      <th>height</th>\n",
       "      <th>weight</th>\n",
       "      <th>firstAppearance</th>\n",
       "      <th>firstAppearanceDate</th>\n",
       "      <th>yearFirstAppeared</th>\n",
       "      <th>heightInInches</th>\n",
       "      <th>weightInPounds</th>\n",
       "      <th>name</th>\n",
       "      <th>universe</th>\n",
       "    </tr>\n",
       "  </thead>\n",
       "  <tbody>\n",
       "    <tr>\n",
       "      <th>4981</th>\n",
       "      <td>http://marvel.wikia.com/wiki/Michael_Collins_(...</td>\n",
       "      <td>Male</td>\n",
       "      <td>7' 2\"</td>\n",
       "      <td>825 lbs (374 kg)</td>\n",
       "      <td>Deeds of Doom</td>\n",
       "      <td>July, 1992</td>\n",
       "      <td>1992</td>\n",
       "      <td>86</td>\n",
       "      <td>825</td>\n",
       "      <td>Michael Collins</td>\n",
       "      <td>Earth-TRN564</td>\n",
       "    </tr>\n",
       "    <tr>\n",
       "      <th>4982</th>\n",
       "      <td>http://marvel.wikia.com/wiki/Aimi_Yoshida_(Ear...</td>\n",
       "      <td>Female</td>\n",
       "      <td>5' 1\"</td>\n",
       "      <td>95 lbs (43 kg)</td>\n",
       "      <td>X-Men: Destiny</td>\n",
       "      <td>September, 27, 2011</td>\n",
       "      <td>2011</td>\n",
       "      <td>61</td>\n",
       "      <td>95</td>\n",
       "      <td>Aimi Yoshida</td>\n",
       "      <td>Earth-TRN064</td>\n",
       "    </tr>\n",
       "  </tbody>\n",
       "</table>\n",
       "</div>"
      ],
      "text/plain": [
       "                                                   link  gender height  \\\n",
       "4981  http://marvel.wikia.com/wiki/Michael_Collins_(...    Male  7' 2\"   \n",
       "4982  http://marvel.wikia.com/wiki/Aimi_Yoshida_(Ear...  Female  5' 1\"   \n",
       "\n",
       "                weight firstAppearance  firstAppearanceDate  \\\n",
       "4981  825 lbs (374 kg)   Deeds of Doom           July, 1992   \n",
       "4982    95 lbs (43 kg)  X-Men: Destiny  September, 27, 2011   \n",
       "\n",
       "      yearFirstAppeared  heightInInches  weightInPounds             name  \\\n",
       "4981               1992              86             825  Michael Collins   \n",
       "4982               2011              61              95     Aimi Yoshida   \n",
       "\n",
       "          universe  \n",
       "4981  Earth-TRN564  \n",
       "4982  Earth-TRN064  "
      ]
     },
     "execution_count": 63,
     "metadata": {},
     "output_type": "execute_result"
    }
   ],
   "source": [
    "data3.tail(2)"
   ]
  },
  {
   "cell_type": "code",
   "execution_count": 162,
   "metadata": {},
   "outputs": [],
   "source": [
    "data3.to_csv(\"C:\\\\Users\\\\glol7001\\\\Documents\\\\MarvelDataComplete.csv\")"
   ]
  }
 ],
 "metadata": {
  "kernelspec": {
   "display_name": "Python 3",
   "language": "python",
   "name": "python3"
  },
  "language_info": {
   "codemirror_mode": {
    "name": "ipython",
    "version": 3
   },
   "file_extension": ".py",
   "mimetype": "text/x-python",
   "name": "python",
   "nbconvert_exporter": "python",
   "pygments_lexer": "ipython3",
   "version": "3.6.5"
  }
 },
 "nbformat": 4,
 "nbformat_minor": 2
}
